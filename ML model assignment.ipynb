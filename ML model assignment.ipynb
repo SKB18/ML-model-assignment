{
 "cells": [
  {
   "cell_type": "code",
   "execution_count": 1,
   "id": "f914d32f",
   "metadata": {
    "scrolled": true
   },
   "outputs": [
    {
     "name": "stdout",
     "output_type": "stream",
     "text": [
      "Requirement already satisfied: pandas in c:\\programdata\\anaconda3\\lib\\site-packages (1.3.4)\n",
      "Requirement already satisfied: numpy in c:\\programdata\\anaconda3\\lib\\site-packages (1.20.3)\n",
      "Requirement already satisfied: scikit-learn in c:\\programdata\\anaconda3\\lib\\site-packages (0.24.2)\n",
      "Requirement already satisfied: category_encoders in c:\\programdata\\anaconda3\\lib\\site-packages (2.6.1)\n",
      "Requirement already satisfied: python-dateutil>=2.7.3 in c:\\programdata\\anaconda3\\lib\\site-packages (from pandas) (2.8.2)\n",
      "Requirement already satisfied: pytz>=2017.3 in c:\\programdata\\anaconda3\\lib\\site-packages (from pandas) (2021.3)\n",
      "Requirement already satisfied: scipy>=0.19.1 in c:\\programdata\\anaconda3\\lib\\site-packages (from scikit-learn) (1.7.1)\n",
      "Requirement already satisfied: joblib>=0.11 in c:\\programdata\\anaconda3\\lib\\site-packages (from scikit-learn) (1.1.0)\n",
      "Requirement already satisfied: threadpoolctl>=2.0.0 in c:\\programdata\\anaconda3\\lib\\site-packages (from scikit-learn) (2.2.0)\n",
      "Requirement already satisfied: statsmodels>=0.9.0 in c:\\programdata\\anaconda3\\lib\\site-packages (from category_encoders) (0.12.2)\n",
      "Requirement already satisfied: patsy>=0.5.1 in c:\\programdata\\anaconda3\\lib\\site-packages (from category_encoders) (0.5.2)\n",
      "Requirement already satisfied: six in c:\\programdata\\anaconda3\\lib\\site-packages (from patsy>=0.5.1->category_encoders) (1.16.0)\n"
     ]
    }
   ],
   "source": [
    "!pip install pandas numpy scikit-learn category_encoders"
   ]
  },
  {
   "cell_type": "code",
   "execution_count": 2,
   "id": "4b124c85",
   "metadata": {},
   "outputs": [],
   "source": [
    "import pandas as pd\n",
    "import numpy as np\n",
    "from sklearn.model_selection import train_test_split, GridSearchCV, cross_val_score\n",
    "from sklearn.preprocessing import StandardScaler\n",
    "from sklearn.feature_selection import SelectKBest, chi2\n",
    "from sklearn.ensemble import RandomForestClassifier\n",
    "from sklearn.metrics import accuracy_score, classification_report\n",
    "import category_encoders as ce\n",
    "import zipfile\n",
    "import requests"
   ]
  },
  {
   "cell_type": "code",
   "execution_count": 3,
   "id": "b8476ebe",
   "metadata": {},
   "outputs": [],
   "source": [
    "url = \"https://archive.ics.uci.edu/ml/machine-learning-databases/00222/bank-additional.zip\"\n",
    "response = requests.get(url)\n",
    "with open(\"bank-additional.zip\", \"wb\") as file:\n",
    "    file.write(response.content)"
   ]
  },
  {
   "cell_type": "code",
   "execution_count": 4,
   "id": "8b32ec3f",
   "metadata": {},
   "outputs": [],
   "source": [
    "with zipfile.ZipFile(\"bank-additional.zip\", 'r') as z:\n",
    "    with z.open('bank-additional/bank-additional.csv') as file:\n",
    "        df = pd.read_csv(file, sep=';')"
   ]
  },
  {
   "cell_type": "code",
   "execution_count": 5,
   "id": "fde2150c",
   "metadata": {},
   "outputs": [],
   "source": [
    "# Handling missing values \n",
    "df['age'].fillna(df['age'].mean(), inplace=True)"
   ]
  },
  {
   "cell_type": "code",
   "execution_count": 6,
   "id": "b3f41f4e",
   "metadata": {},
   "outputs": [],
   "source": [
    "# Encode categorical variables using different methods (Example: Ordinal encoding and Binary encoding)\n",
    "ordinal_encoder = ce.OrdinalEncoder(cols=['housing']) \n",
    "binary_encoder = ce.BinaryEncoder(cols=['loan'])  \n",
    "\n"
   ]
  },
  {
   "cell_type": "code",
   "execution_count": 7,
   "id": "7f912bc9",
   "metadata": {},
   "outputs": [],
   "source": [
    "df_encoded = ordinal_encoder.fit_transform(df)\n",
    "df_encoded = binary_encoder.fit_transform(df_encoded)"
   ]
  },
  {
   "cell_type": "code",
   "execution_count": 8,
   "id": "e6ab1b91",
   "metadata": {},
   "outputs": [],
   "source": [
    "# Split the data into features and labels\n",
    "X = df_encoded.drop('default', axis=1)\n",
    "y = df_encoded['default']"
   ]
  },
  {
   "cell_type": "code",
   "execution_count": 9,
   "id": "0a16de52",
   "metadata": {},
   "outputs": [],
   "source": [
    "# Split the data into training and testing sets\n",
    "X_train, X_test, y_train, y_test = train_test_split(X, y, test_size=0.2, random_state=42)"
   ]
  },
  {
   "cell_type": "code",
   "execution_count": 10,
   "id": "046231aa",
   "metadata": {},
   "outputs": [],
   "source": [
    "numerical_cols = ['age']  \n",
    "categorical_cols =  ['housing', 'loan']    \n",
    "\n"
   ]
  },
  {
   "cell_type": "code",
   "execution_count": 11,
   "id": "8d23576c",
   "metadata": {},
   "outputs": [],
   "source": [
    "# Perform feature scaling on numerical columns\n",
    "scaler = StandardScaler()\n",
    "X_train_scaled = X_train.copy()\n",
    "X_test_scaled = X_test.copy()\n"
   ]
  },
  {
   "cell_type": "code",
   "execution_count": 12,
   "id": "24798fb9",
   "metadata": {},
   "outputs": [],
   "source": [
    "X_train_scaled[numerical_cols] = scaler.fit_transform(X_train[numerical_cols])\n",
    "X_test_scaled[numerical_cols] = scaler.transform(X_test[numerical_cols])"
   ]
  },
  {
   "cell_type": "code",
   "execution_count": 13,
   "id": "7a593242",
   "metadata": {},
   "outputs": [],
   "source": [
    "numerical_cols = ['age']  \n",
    "categorical_cols = ['housing']  "
   ]
  },
  {
   "cell_type": "code",
   "execution_count": 14,
   "id": "e5829361",
   "metadata": {},
   "outputs": [],
   "source": [
    "selector_categorical = SelectKBest(score_func=chi2, k='all')  # Select the number of top categorical features you want to keep\n",
    "X_train_categorical = selector_categorical.fit_transform(X_train[categorical_cols], y_train)\n",
    "X_test_categorical = selector_categorical.transform(X_test[categorical_cols])"
   ]
  },
  {
   "cell_type": "code",
   "execution_count": 15,
   "id": "14781b32",
   "metadata": {},
   "outputs": [],
   "source": [
    "numerical_cols = ['age']"
   ]
  },
  {
   "cell_type": "code",
   "execution_count": 16,
   "id": "66e7d440",
   "metadata": {},
   "outputs": [],
   "source": [
    "scaler = StandardScaler()\n",
    "X_train_scaled = X_train[numerical_cols].copy()\n",
    "X_test_scaled = X_test[numerical_cols].copy()\n"
   ]
  },
  {
   "cell_type": "code",
   "execution_count": 17,
   "id": "74560fc1",
   "metadata": {},
   "outputs": [],
   "source": [
    "X_train_scaled[numerical_cols] = scaler.fit_transform(X_train[numerical_cols])\n",
    "X_test_scaled[numerical_cols] = scaler.transform(X_test[numerical_cols])\n"
   ]
  },
  {
   "cell_type": "code",
   "execution_count": 18,
   "id": "5a6e8ea1",
   "metadata": {},
   "outputs": [],
   "source": [
    "# Combine selected features\n",
    "X_train_selected = np.hstack((X_train_scaled, X_train_categorical))\n",
    "X_test_selected = np.hstack((X_test_scaled, X_test_categorical))"
   ]
  },
  {
   "cell_type": "code",
   "execution_count": 19,
   "id": "d8852c47",
   "metadata": {},
   "outputs": [],
   "source": [
    "# Perform hyperparameter tuning using cross-validation\n",
    "param_grid = {\n",
    "    'n_estimators': [100, 200, 300],  # Specify the range of values to try for each hyperparameter\n",
    "    'max_depth': [5, 10, None],\n",
    "    # Add more hyperparameters and their respective values to tune\n",
    "}"
   ]
  },
  {
   "cell_type": "code",
   "execution_count": 20,
   "id": "8f9160df",
   "metadata": {},
   "outputs": [
    {
     "data": {
      "text/plain": [
       "GridSearchCV(cv=5, estimator=RandomForestClassifier(),\n",
       "             param_grid={'max_depth': [5, 10, None],\n",
       "                         'n_estimators': [100, 200, 300]})"
      ]
     },
     "execution_count": 20,
     "metadata": {},
     "output_type": "execute_result"
    }
   ],
   "source": [
    "model = GridSearchCV(RandomForestClassifier(), param_grid, cv=5)\n",
    "\n",
    "model.fit(X_train_selected, y_train)\n"
   ]
  },
  {
   "cell_type": "code",
   "execution_count": 21,
   "id": "9ed0e8b5",
   "metadata": {},
   "outputs": [
    {
     "name": "stdout",
     "output_type": "stream",
     "text": [
      "Best Hyperparameters: {'max_depth': 5, 'n_estimators': 100}\n"
     ]
    }
   ],
   "source": [
    "best_params = model.best_params_\n",
    "print(f\"Best Hyperparameters: {best_params}\")"
   ]
  },
  {
   "cell_type": "code",
   "execution_count": 22,
   "id": "1ccebf60",
   "metadata": {},
   "outputs": [
    {
     "name": "stdout",
     "output_type": "stream",
     "text": [
      "Cross-Validation Scores: [0.81183612 0.80880121 0.80880121 0.80728376 0.80728376]\n",
      "Mean Cross-Validation Score: 0.8088012139605463\n"
     ]
    }
   ],
   "source": [
    "# Evaluate the model using cross-validation\n",
    "cv_scores = cross_val_score(model, X_train_selected, y_train, cv=5)\n",
    "print(f\"Cross-Validation Scores: {cv_scores}\")\n",
    "print(f\"Mean Cross-Validation Score: {np.mean(cv_scores)}\")"
   ]
  },
  {
   "cell_type": "code",
   "execution_count": 23,
   "id": "1990063d",
   "metadata": {},
   "outputs": [],
   "source": [
    "# Evaluate the model on the test set\n",
    "y_pred = model.predict(X_test_selected)"
   ]
  },
  {
   "cell_type": "code",
   "execution_count": 24,
   "id": "6ef00bd2",
   "metadata": {},
   "outputs": [
    {
     "name": "stdout",
     "output_type": "stream",
     "text": [
      "Accuracy: 0.7864077669902912\n"
     ]
    }
   ],
   "source": [
    "accuracy = accuracy_score(y_test, y_pred)\n",
    "print(f\"Accuracy: {accuracy}\")"
   ]
  },
  {
   "cell_type": "code",
   "execution_count": 25,
   "id": "d2a1a67a",
   "metadata": {},
   "outputs": [
    {
     "name": "stdout",
     "output_type": "stream",
     "text": [
      "Classification Report:\n",
      "              precision    recall  f1-score   support\n",
      "\n",
      "          no       0.79      1.00      0.88       648\n",
      "     unknown       0.50      0.01      0.01       175\n",
      "         yes       0.00      0.00      0.00         1\n",
      "\n",
      "    accuracy                           0.79       824\n",
      "   macro avg       0.43      0.33      0.30       824\n",
      "weighted avg       0.73      0.79      0.69       824\n",
      "\n"
     ]
    },
    {
     "name": "stderr",
     "output_type": "stream",
     "text": [
      "C:\\ProgramData\\Anaconda3\\lib\\site-packages\\sklearn\\metrics\\_classification.py:1248: UndefinedMetricWarning: Precision and F-score are ill-defined and being set to 0.0 in labels with no predicted samples. Use `zero_division` parameter to control this behavior.\n",
      "  _warn_prf(average, modifier, msg_start, len(result))\n",
      "C:\\ProgramData\\Anaconda3\\lib\\site-packages\\sklearn\\metrics\\_classification.py:1248: UndefinedMetricWarning: Precision and F-score are ill-defined and being set to 0.0 in labels with no predicted samples. Use `zero_division` parameter to control this behavior.\n",
      "  _warn_prf(average, modifier, msg_start, len(result))\n",
      "C:\\ProgramData\\Anaconda3\\lib\\site-packages\\sklearn\\metrics\\_classification.py:1248: UndefinedMetricWarning: Precision and F-score are ill-defined and being set to 0.0 in labels with no predicted samples. Use `zero_division` parameter to control this behavior.\n",
      "  _warn_prf(average, modifier, msg_start, len(result))\n"
     ]
    }
   ],
   "source": [
    "class_report = classification_report(y_test, y_pred)\n",
    "print(f\"Classification Report:\\n{class_report}\")"
   ]
  },
  {
   "cell_type": "code",
   "execution_count": 27,
   "id": "0052836e",
   "metadata": {},
   "outputs": [
    {
     "name": "stdout",
     "output_type": "stream",
     "text": [
      "age: 0.9595498874751849\n",
      "job: 0.040450112524815146\n"
     ]
    }
   ],
   "source": [
    "importances = model.best_estimator_.feature_importances_\n",
    "\n",
    "# Print feature importances\n",
    "for feature, importance in zip(X.columns, importances):\n",
    "    print(f\"{feature}: {importance}\")\n",
    "\n"
   ]
  },
  {
   "cell_type": "code",
   "execution_count": 29,
   "id": "040857ed",
   "metadata": {},
   "outputs": [
    {
     "name": "stdout",
     "output_type": "stream",
     "text": [
      "Confusion Matrix:\n",
      "[[647   1   0]\n",
      " [174   1   0]\n",
      " [  1   0   0]]\n"
     ]
    }
   ],
   "source": [
    "from sklearn.metrics import confusion_matrix\n",
    "\n",
    "conf_matrix = confusion_matrix(y_test, y_pred)\n",
    "print(f\"Confusion Matrix:\\n{conf_matrix}\")\n"
   ]
  },
  {
   "cell_type": "code",
   "execution_count": 30,
   "id": "5cb6010a",
   "metadata": {},
   "outputs": [
    {
     "name": "stdout",
     "output_type": "stream",
     "text": [
      "Class 0:\n",
      "Precision: 0.7871046228710462\n",
      "Recall: 0.9984567901234568\n",
      "F1-Score: 0.8802721088435373\n",
      "\n",
      "Class 1:\n",
      "Precision: 0.5\n",
      "Recall: 0.005714285714285714\n",
      "F1-Score: 0.01129943502824859\n",
      "\n",
      "Class 2:\n",
      "Precision: 0.0\n",
      "Recall: 0.0\n",
      "F1-Score: 0.0\n",
      "\n"
     ]
    },
    {
     "name": "stderr",
     "output_type": "stream",
     "text": [
      "C:\\ProgramData\\Anaconda3\\lib\\site-packages\\sklearn\\metrics\\_classification.py:1248: UndefinedMetricWarning: Precision is ill-defined and being set to 0.0 in labels with no predicted samples. Use `zero_division` parameter to control this behavior.\n",
      "  _warn_prf(average, modifier, msg_start, len(result))\n"
     ]
    }
   ],
   "source": [
    "from sklearn.metrics import precision_score, recall_score, f1_score\n",
    "\n",
    "# Calculate precision, recall, and F1-score for each class\n",
    "precision = precision_score(y_test, y_pred, average=None)\n",
    "recall = recall_score(y_test, y_pred, average=None)\n",
    "f1 = f1_score(y_test, y_pred, average=None)\n",
    "\n",
    "# Print precision, recall, and F1-score for each class\n",
    "for class_label, p, r, f in zip(range(len(precision)), precision, recall, f1):\n",
    "    print(f\"Class {class_label}:\")\n",
    "    print(f\"Precision: {p}\")\n",
    "    print(f\"Recall: {r}\")\n",
    "    print(f\"F1-Score: {f}\")\n",
    "    print()\n"
   ]
  },
  {
   "cell_type": "code",
   "execution_count": 33,
   "id": "70efccc6",
   "metadata": {},
   "outputs": [],
   "source": [
    "best_model = model.best_estimator_\n",
    "\n"
   ]
  },
  {
   "cell_type": "code",
   "execution_count": 34,
   "id": "c35ca042",
   "metadata": {},
   "outputs": [
    {
     "name": "stdout",
     "output_type": "stream",
     "text": [
      "Mean Cross-Validation Score: 0.8088012139605463\n"
     ]
    }
   ],
   "source": [
    "mean_cv_score = np.mean(cv_scores)\n",
    "print(f\"Mean Cross-Validation Score: {mean_cv_score}\")\n"
   ]
  },
  {
   "cell_type": "code",
   "execution_count": 35,
   "id": "d3f763de",
   "metadata": {},
   "outputs": [
    {
     "name": "stdout",
     "output_type": "stream",
     "text": [
      "Grid Search Results: {'mean_fit_time': array([0.12093349, 0.25216713, 0.36074767, 0.12595263, 0.24797845,\n",
      "       0.37538271, 0.12472467, 0.24813666, 0.3899425 ]), 'std_fit_time': array([0.00961498, 0.02184924, 0.00691101, 0.00798987, 0.00749218,\n",
      "       0.01458099, 0.00881711, 0.00326852, 0.00650786]), 'mean_score_time': array([0.01731691, 0.02539778, 0.03206921, 0.01310692, 0.02393231,\n",
      "       0.0374845 , 0.01745963, 0.02499433, 0.03436661]), 'std_score_time': array([0.00443031, 0.00752712, 0.00205354, 0.00264335, 0.0070578 ,\n",
      "       0.00765729, 0.00347329, 0.00765265, 0.00624994]), 'param_max_depth': masked_array(data=[5, 5, 5, 10, 10, 10, None, None, None],\n",
      "             mask=[False, False, False, False, False, False, False, False,\n",
      "                   False],\n",
      "       fill_value='?',\n",
      "            dtype=object), 'param_n_estimators': masked_array(data=[100, 200, 300, 100, 200, 300, 100, 200, 300],\n",
      "             mask=[False, False, False, False, False, False, False, False,\n",
      "                   False],\n",
      "       fill_value='?',\n",
      "            dtype=object), 'params': [{'max_depth': 5, 'n_estimators': 100}, {'max_depth': 5, 'n_estimators': 200}, {'max_depth': 5, 'n_estimators': 300}, {'max_depth': 10, 'n_estimators': 100}, {'max_depth': 10, 'n_estimators': 200}, {'max_depth': 10, 'n_estimators': 300}, {'max_depth': None, 'n_estimators': 100}, {'max_depth': None, 'n_estimators': 200}, {'max_depth': None, 'n_estimators': 300}], 'split0_test_score': array([0.81183612, 0.81183612, 0.81183612, 0.81031866, 0.81031866,\n",
      "       0.81031866, 0.81031866, 0.81031866, 0.80576631]), 'split1_test_score': array([0.80880121, 0.80880121, 0.80880121, 0.80424886, 0.80728376,\n",
      "       0.80728376, 0.80728376, 0.80424886, 0.80880121]), 'split2_test_score': array([0.81031866, 0.80880121, 0.80880121, 0.80880121, 0.80728376,\n",
      "       0.80880121, 0.80880121, 0.80728376, 0.80880121]), 'split3_test_score': array([0.80728376, 0.80728376, 0.80728376, 0.80273141, 0.80273141,\n",
      "       0.79969651, 0.79362671, 0.78907436, 0.78907436]), 'split4_test_score': array([0.80728376, 0.80728376, 0.80728376, 0.80121396, 0.80273141,\n",
      "       0.80121396, 0.79969651, 0.79969651, 0.80273141]), 'mean_test_score': array([0.8091047 , 0.80880121, 0.80880121, 0.80546282, 0.8060698 ,\n",
      "       0.80546282, 0.80394537, 0.80212443, 0.8030349 ]), 'std_test_score': array([0.00176964, 0.00166228, 0.00166228, 0.00351315, 0.00294245,\n",
      "       0.00422713, 0.00632251, 0.00740914, 0.00733417]), 'rank_test_score': array([1, 2, 2, 6, 4, 5, 7, 9, 8])}\n"
     ]
    }
   ],
   "source": [
    "grid_search_results = model.cv_results_\n",
    "print(f\"Grid Search Results: {grid_search_results}\")\n"
   ]
  },
  {
   "cell_type": "code",
   "execution_count": 36,
   "id": "a9419daa",
   "metadata": {},
   "outputs": [],
   "source": [
    "y_pred_prob = model.predict_proba(X_test_selected)\n"
   ]
  },
  {
   "cell_type": "code",
   "execution_count": 39,
   "id": "ebd42db1",
   "metadata": {},
   "outputs": [
    {
     "name": "stdout",
     "output_type": "stream",
     "text": [
      "Best Mean Cross-Validation Score: 0.8091047040971169\n"
     ]
    }
   ],
   "source": [
    "best_score = model.best_score_\n",
    "print(f\"Best Mean Cross-Validation Score: {best_score}\")\n"
   ]
  },
  {
   "cell_type": "code",
   "execution_count": 40,
   "id": "d9949401",
   "metadata": {},
   "outputs": [
    {
     "name": "stdout",
     "output_type": "stream",
     "text": [
      "Best Hyperparameters: {'max_depth': 5, 'n_estimators': 100}\n"
     ]
    }
   ],
   "source": [
    "best_params = model.best_params_\n",
    "print(f\"Best Hyperparameters: {best_params}\")\n"
   ]
  },
  {
   "cell_type": "code",
   "execution_count": 41,
   "id": "ff001edc",
   "metadata": {},
   "outputs": [
    {
     "name": "stdout",
     "output_type": "stream",
     "text": [
      "Grid Search Results: {'mean_fit_time': array([0.12093349, 0.25216713, 0.36074767, 0.12595263, 0.24797845,\n",
      "       0.37538271, 0.12472467, 0.24813666, 0.3899425 ]), 'std_fit_time': array([0.00961498, 0.02184924, 0.00691101, 0.00798987, 0.00749218,\n",
      "       0.01458099, 0.00881711, 0.00326852, 0.00650786]), 'mean_score_time': array([0.01731691, 0.02539778, 0.03206921, 0.01310692, 0.02393231,\n",
      "       0.0374845 , 0.01745963, 0.02499433, 0.03436661]), 'std_score_time': array([0.00443031, 0.00752712, 0.00205354, 0.00264335, 0.0070578 ,\n",
      "       0.00765729, 0.00347329, 0.00765265, 0.00624994]), 'param_max_depth': masked_array(data=[5, 5, 5, 10, 10, 10, None, None, None],\n",
      "             mask=[False, False, False, False, False, False, False, False,\n",
      "                   False],\n",
      "       fill_value='?',\n",
      "            dtype=object), 'param_n_estimators': masked_array(data=[100, 200, 300, 100, 200, 300, 100, 200, 300],\n",
      "             mask=[False, False, False, False, False, False, False, False,\n",
      "                   False],\n",
      "       fill_value='?',\n",
      "            dtype=object), 'params': [{'max_depth': 5, 'n_estimators': 100}, {'max_depth': 5, 'n_estimators': 200}, {'max_depth': 5, 'n_estimators': 300}, {'max_depth': 10, 'n_estimators': 100}, {'max_depth': 10, 'n_estimators': 200}, {'max_depth': 10, 'n_estimators': 300}, {'max_depth': None, 'n_estimators': 100}, {'max_depth': None, 'n_estimators': 200}, {'max_depth': None, 'n_estimators': 300}], 'split0_test_score': array([0.81183612, 0.81183612, 0.81183612, 0.81031866, 0.81031866,\n",
      "       0.81031866, 0.81031866, 0.81031866, 0.80576631]), 'split1_test_score': array([0.80880121, 0.80880121, 0.80880121, 0.80424886, 0.80728376,\n",
      "       0.80728376, 0.80728376, 0.80424886, 0.80880121]), 'split2_test_score': array([0.81031866, 0.80880121, 0.80880121, 0.80880121, 0.80728376,\n",
      "       0.80880121, 0.80880121, 0.80728376, 0.80880121]), 'split3_test_score': array([0.80728376, 0.80728376, 0.80728376, 0.80273141, 0.80273141,\n",
      "       0.79969651, 0.79362671, 0.78907436, 0.78907436]), 'split4_test_score': array([0.80728376, 0.80728376, 0.80728376, 0.80121396, 0.80273141,\n",
      "       0.80121396, 0.79969651, 0.79969651, 0.80273141]), 'mean_test_score': array([0.8091047 , 0.80880121, 0.80880121, 0.80546282, 0.8060698 ,\n",
      "       0.80546282, 0.80394537, 0.80212443, 0.8030349 ]), 'std_test_score': array([0.00176964, 0.00166228, 0.00166228, 0.00351315, 0.00294245,\n",
      "       0.00422713, 0.00632251, 0.00740914, 0.00733417]), 'rank_test_score': array([1, 2, 2, 6, 4, 5, 7, 9, 8])}\n"
     ]
    }
   ],
   "source": [
    "grid_search_results = model.cv_results_\n",
    "print(f\"Grid Search Results: {grid_search_results}\")\n"
   ]
  },
  {
   "cell_type": "code",
   "execution_count": 42,
   "id": "1b292425",
   "metadata": {},
   "outputs": [
    {
     "name": "stdout",
     "output_type": "stream",
     "text": [
      "Mean Training Score: 0.8118361153262519\n"
     ]
    }
   ],
   "source": [
    "mean_train_score = model.best_estimator_.score(X_train_selected, y_train)\n",
    "print(f\"Mean Training Score: {mean_train_score}\")\n"
   ]
  },
  {
   "cell_type": "code",
   "execution_count": 43,
   "id": "ec4d970a",
   "metadata": {},
   "outputs": [
    {
     "name": "stdout",
     "output_type": "stream",
     "text": [
      "Mean Test Score: 0.7864077669902912\n"
     ]
    }
   ],
   "source": [
    "mean_test_score = model.best_estimator_.score(X_test_selected, y_test)\n",
    "print(f\"Mean Test Score: {mean_test_score}\")\n"
   ]
  },
  {
   "cell_type": "code",
   "execution_count": 44,
   "id": "cee29fd4",
   "metadata": {},
   "outputs": [
    {
     "name": "stdout",
     "output_type": "stream",
     "text": [
      "Parameters of the Best Estimator: {'bootstrap': True, 'ccp_alpha': 0.0, 'class_weight': None, 'criterion': 'gini', 'max_depth': 5, 'max_features': 'auto', 'max_leaf_nodes': None, 'max_samples': None, 'min_impurity_decrease': 0.0, 'min_impurity_split': None, 'min_samples_leaf': 1, 'min_samples_split': 2, 'min_weight_fraction_leaf': 0.0, 'n_estimators': 100, 'n_jobs': None, 'oob_score': False, 'random_state': None, 'verbose': 0, 'warm_start': False}\n"
     ]
    }
   ],
   "source": [
    "best_estimator_params = model.best_estimator_.get_params()\n",
    "print(f\"Parameters of the Best Estimator: {best_estimator_params}\")\n"
   ]
  },
  {
   "cell_type": "code",
   "execution_count": null,
   "id": "f7abe347",
   "metadata": {},
   "outputs": [],
   "source": []
  }
 ],
 "metadata": {
  "kernelspec": {
   "display_name": "Python 3 (ipykernel)",
   "language": "python",
   "name": "python3"
  },
  "language_info": {
   "codemirror_mode": {
    "name": "ipython",
    "version": 3
   },
   "file_extension": ".py",
   "mimetype": "text/x-python",
   "name": "python",
   "nbconvert_exporter": "python",
   "pygments_lexer": "ipython3",
   "version": "3.9.7"
  }
 },
 "nbformat": 4,
 "nbformat_minor": 5
}
