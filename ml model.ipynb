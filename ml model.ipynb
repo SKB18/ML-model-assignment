{
 "cells": [
  {
   "cell_type": "code",
   "execution_count": 2,
   "id": "4b12e00d",
   "metadata": {
    "scrolled": true
   },
   "outputs": [
    {
     "name": "stdout",
     "output_type": "stream",
     "text": [
      "Requirement already satisfied: pandas in c:\\programdata\\anaconda3\\lib\\site-packages (1.3.4)\n",
      "Requirement already satisfied: numpy in c:\\programdata\\anaconda3\\lib\\site-packages (1.20.3)\n",
      "Requirement already satisfied: scikit-learn in c:\\programdata\\anaconda3\\lib\\site-packages (0.24.2)\n",
      "Requirement already satisfied: category_encoders in c:\\programdata\\anaconda3\\lib\\site-packages (2.6.1)\n",
      "Requirement already satisfied: python-dateutil>=2.7.3 in c:\\programdata\\anaconda3\\lib\\site-packages (from pandas) (2.8.2)\n",
      "Requirement already satisfied: pytz>=2017.3 in c:\\programdata\\anaconda3\\lib\\site-packages (from pandas) (2021.3)\n",
      "Requirement already satisfied: scipy>=0.19.1 in c:\\programdata\\anaconda3\\lib\\site-packages (from scikit-learn) (1.7.1)\n",
      "Requirement already satisfied: joblib>=0.11 in c:\\programdata\\anaconda3\\lib\\site-packages (from scikit-learn) (1.1.0)\n",
      "Requirement already satisfied: threadpoolctl>=2.0.0 in c:\\programdata\\anaconda3\\lib\\site-packages (from scikit-learn) (2.2.0)\n",
      "Requirement already satisfied: statsmodels>=0.9.0 in c:\\programdata\\anaconda3\\lib\\site-packages (from category_encoders) (0.12.2)\n",
      "Requirement already satisfied: patsy>=0.5.1 in c:\\programdata\\anaconda3\\lib\\site-packages (from category_encoders) (0.5.2)\n",
      "Requirement already satisfied: six in c:\\programdata\\anaconda3\\lib\\site-packages (from patsy>=0.5.1->category_encoders) (1.16.0)\n"
     ]
    }
   ],
   "source": [
    "!pip install pandas numpy scikit-learn category_encoders"
   ]
  },
  {
   "cell_type": "code",
   "execution_count": 3,
   "id": "03452a7f",
   "metadata": {},
   "outputs": [],
   "source": [
    "import pandas as pd\n",
    "import numpy as np\n",
    "from sklearn.model_selection import train_test_split, GridSearchCV, cross_val_score\n",
    "from sklearn.preprocessing import StandardScaler\n",
    "from sklearn.feature_selection import SelectKBest, chi2\n",
    "from sklearn.ensemble import RandomForestClassifier\n",
    "from sklearn.metrics import accuracy_score, classification_report\n",
    "import category_encoders as ce\n",
    "import zipfile\n",
    "import requests"
   ]
  },
  {
   "cell_type": "code",
   "execution_count": 4,
   "id": "10fc336d",
   "metadata": {},
   "outputs": [],
   "source": [
    "url = \"https://archive.ics.uci.edu/ml/machine-learning-databases/00222/bank-additional.zip\"\n",
    "response = requests.get(url)\n",
    "with open(\"bank-additional.zip\", \"wb\") as file:\n",
    "    file.write(response.content)"
   ]
  },
  {
   "cell_type": "code",
   "execution_count": 5,
   "id": "bd05fbf1",
   "metadata": {},
   "outputs": [],
   "source": [
    "with zipfile.ZipFile(\"bank-additional.zip\", 'r') as z:\n",
    "    with z.open('bank-additional/bank-additional.csv') as file:\n",
    "        df = pd.read_csv(file, sep=';')"
   ]
  },
  {
   "cell_type": "code",
   "execution_count": 7,
   "id": "34a354b1",
   "metadata": {},
   "outputs": [],
   "source": [
    "# Handling missing values \n",
    "df['age'].fillna(df['age'].mean(), inplace=True)"
   ]
  },
  {
   "cell_type": "code",
   "execution_count": 8,
   "id": "a0f63e99",
   "metadata": {},
   "outputs": [],
   "source": [
    "# Encode categorical variables using different methods (Example: Ordinal encoding and Binary encoding)\n",
    "ordinal_encoder = ce.OrdinalEncoder(cols=['housing']) \n",
    "binary_encoder = ce.BinaryEncoder(cols=['loan'])  \n",
    "\n"
   ]
  },
  {
   "cell_type": "code",
   "execution_count": 9,
   "id": "e14b16d9",
   "metadata": {},
   "outputs": [],
   "source": [
    "df_encoded = ordinal_encoder.fit_transform(df)\n",
    "df_encoded = binary_encoder.fit_transform(df_encoded)"
   ]
  },
  {
   "cell_type": "code",
   "execution_count": 12,
   "id": "4667f233",
   "metadata": {},
   "outputs": [],
   "source": [
    "# Split the data into features and labels\n",
    "X = df_encoded.drop('default', axis=1)\n",
    "y = df_encoded['default']"
   ]
  },
  {
   "cell_type": "code",
   "execution_count": 13,
   "id": "c5d732ad",
   "metadata": {},
   "outputs": [],
   "source": [
    "# Split the data into training and testing sets\n",
    "X_train, X_test, y_train, y_test = train_test_split(X, y, test_size=0.2, random_state=42)"
   ]
  },
  {
   "cell_type": "code",
   "execution_count": 24,
   "id": "6717ed15",
   "metadata": {},
   "outputs": [],
   "source": [
    "numerical_cols = ['age']  \n",
    "categorical_cols =  ['housing', 'loan']    \n",
    "\n"
   ]
  },
  {
   "cell_type": "code",
   "execution_count": 25,
   "id": "71bfcc07",
   "metadata": {},
   "outputs": [],
   "source": [
    "# Perform feature scaling on numerical columns\n",
    "scaler = StandardScaler()\n",
    "X_train_scaled = X_train.copy()\n",
    "X_test_scaled = X_test.copy()\n"
   ]
  },
  {
   "cell_type": "code",
   "execution_count": 26,
   "id": "9e3db1a8",
   "metadata": {},
   "outputs": [],
   "source": [
    "X_train_scaled[numerical_cols] = scaler.fit_transform(X_train[numerical_cols])\n",
    "X_test_scaled[numerical_cols] = scaler.transform(X_test[numerical_cols])"
   ]
  },
  {
   "cell_type": "code",
   "execution_count": 27,
   "id": "098f38ea",
   "metadata": {},
   "outputs": [],
   "source": [
    "numerical_cols = ['age']  \n",
    "categorical_cols = ['housing']  "
   ]
  },
  {
   "cell_type": "code",
   "execution_count": 29,
   "id": "84504876",
   "metadata": {},
   "outputs": [],
   "source": [
    "selector_categorical = SelectKBest(score_func=chi2, k='all')  # Select the number of top categorical features you want to keep\n",
    "X_train_categorical = selector_categorical.fit_transform(X_train[categorical_cols], y_train)\n",
    "X_test_categorical = selector_categorical.transform(X_test[categorical_cols])"
   ]
  },
  {
   "cell_type": "code",
   "execution_count": 30,
   "id": "214a5899",
   "metadata": {},
   "outputs": [],
   "source": [
    "numerical_cols = ['age']"
   ]
  },
  {
   "cell_type": "code",
   "execution_count": 31,
   "id": "a484c977",
   "metadata": {},
   "outputs": [],
   "source": [
    "scaler = StandardScaler()\n",
    "X_train_scaled = X_train[numerical_cols].copy()\n",
    "X_test_scaled = X_test[numerical_cols].copy()\n"
   ]
  },
  {
   "cell_type": "code",
   "execution_count": 32,
   "id": "fe78eaaa",
   "metadata": {},
   "outputs": [],
   "source": [
    "X_train_scaled[numerical_cols] = scaler.fit_transform(X_train[numerical_cols])\n",
    "X_test_scaled[numerical_cols] = scaler.transform(X_test[numerical_cols])\n"
   ]
  },
  {
   "cell_type": "code",
   "execution_count": 33,
   "id": "a30ffb8d",
   "metadata": {},
   "outputs": [],
   "source": [
    "# Combine selected features\n",
    "X_train_selected = np.hstack((X_train_scaled, X_train_categorical))\n",
    "X_test_selected = np.hstack((X_test_scaled, X_test_categorical))"
   ]
  },
  {
   "cell_type": "code",
   "execution_count": 34,
   "id": "66b6f526",
   "metadata": {},
   "outputs": [],
   "source": [
    "# Perform hyperparameter tuning using cross-validation\n",
    "param_grid = {\n",
    "    'n_estimators': [100, 200, 300],  # Specify the range of values to try for each hyperparameter\n",
    "    'max_depth': [5, 10, None],\n",
    "    # Add more hyperparameters and their respective values to tune\n",
    "}"
   ]
  },
  {
   "cell_type": "code",
   "execution_count": 35,
   "id": "c14cb65a",
   "metadata": {},
   "outputs": [
    {
     "data": {
      "text/plain": [
       "GridSearchCV(cv=5, estimator=RandomForestClassifier(),\n",
       "             param_grid={'max_depth': [5, 10, None],\n",
       "                         'n_estimators': [100, 200, 300]})"
      ]
     },
     "execution_count": 35,
     "metadata": {},
     "output_type": "execute_result"
    }
   ],
   "source": [
    "model = GridSearchCV(RandomForestClassifier(), param_grid, cv=5)\n",
    "\n",
    "model.fit(X_train_selected, y_train)\n"
   ]
  },
  {
   "cell_type": "code",
   "execution_count": 36,
   "id": "e8b212d3",
   "metadata": {},
   "outputs": [
    {
     "name": "stdout",
     "output_type": "stream",
     "text": [
      "Best Hyperparameters: {'max_depth': 5, 'n_estimators': 200}\n"
     ]
    }
   ],
   "source": [
    "best_params = model.best_params_\n",
    "print(f\"Best Hyperparameters: {best_params}\")"
   ]
  },
  {
   "cell_type": "code",
   "execution_count": 37,
   "id": "1d1ff880",
   "metadata": {},
   "outputs": [
    {
     "name": "stdout",
     "output_type": "stream",
     "text": [
      "Cross-Validation Scores: [0.81183612 0.80880121 0.81031866 0.80728376 0.80728376]\n",
      "Mean Cross-Validation Score: 0.8091047040971169\n"
     ]
    }
   ],
   "source": [
    "# Evaluate the model using cross-validation\n",
    "cv_scores = cross_val_score(model, X_train_selected, y_train, cv=5)\n",
    "print(f\"Cross-Validation Scores: {cv_scores}\")\n",
    "print(f\"Mean Cross-Validation Score: {np.mean(cv_scores)}\")"
   ]
  },
  {
   "cell_type": "code",
   "execution_count": 38,
   "id": "86851bf5",
   "metadata": {},
   "outputs": [],
   "source": [
    "# Evaluate the model on the test set\n",
    "y_pred = model.predict(X_test_selected)"
   ]
  },
  {
   "cell_type": "code",
   "execution_count": 39,
   "id": "281ac67a",
   "metadata": {},
   "outputs": [
    {
     "name": "stdout",
     "output_type": "stream",
     "text": [
      "Accuracy: 0.7864077669902912\n"
     ]
    }
   ],
   "source": [
    "accuracy = accuracy_score(y_test, y_pred)\n",
    "print(f\"Accuracy: {accuracy}\")"
   ]
  },
  {
   "cell_type": "code",
   "execution_count": 40,
   "id": "07970771",
   "metadata": {},
   "outputs": [
    {
     "name": "stdout",
     "output_type": "stream",
     "text": [
      "Classification Report:\n",
      "              precision    recall  f1-score   support\n",
      "\n",
      "          no       0.79      1.00      0.88       648\n",
      "     unknown       0.50      0.01      0.01       175\n",
      "         yes       0.00      0.00      0.00         1\n",
      "\n",
      "    accuracy                           0.79       824\n",
      "   macro avg       0.43      0.33      0.30       824\n",
      "weighted avg       0.73      0.79      0.69       824\n",
      "\n"
     ]
    },
    {
     "name": "stderr",
     "output_type": "stream",
     "text": [
      "C:\\ProgramData\\Anaconda3\\lib\\site-packages\\sklearn\\metrics\\_classification.py:1248: UndefinedMetricWarning: Precision and F-score are ill-defined and being set to 0.0 in labels with no predicted samples. Use `zero_division` parameter to control this behavior.\n",
      "  _warn_prf(average, modifier, msg_start, len(result))\n",
      "C:\\ProgramData\\Anaconda3\\lib\\site-packages\\sklearn\\metrics\\_classification.py:1248: UndefinedMetricWarning: Precision and F-score are ill-defined and being set to 0.0 in labels with no predicted samples. Use `zero_division` parameter to control this behavior.\n",
      "  _warn_prf(average, modifier, msg_start, len(result))\n",
      "C:\\ProgramData\\Anaconda3\\lib\\site-packages\\sklearn\\metrics\\_classification.py:1248: UndefinedMetricWarning: Precision and F-score are ill-defined and being set to 0.0 in labels with no predicted samples. Use `zero_division` parameter to control this behavior.\n",
      "  _warn_prf(average, modifier, msg_start, len(result))\n"
     ]
    }
   ],
   "source": [
    "class_report = classification_report(y_test, y_pred)\n",
    "print(f\"Classification Report:\\n{class_report}\")"
   ]
  },
  {
   "cell_type": "code",
   "execution_count": null,
   "id": "119e2fe5",
   "metadata": {},
   "outputs": [],
   "source": []
  }
 ],
 "metadata": {
  "kernelspec": {
   "display_name": "Python 3 (ipykernel)",
   "language": "python",
   "name": "python3"
  },
  "language_info": {
   "codemirror_mode": {
    "name": "ipython",
    "version": 3
   },
   "file_extension": ".py",
   "mimetype": "text/x-python",
   "name": "python",
   "nbconvert_exporter": "python",
   "pygments_lexer": "ipython3",
   "version": "3.9.7"
  }
 },
 "nbformat": 4,
 "nbformat_minor": 5
}
